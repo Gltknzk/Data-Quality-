{
  "nbformat": 4,
  "nbformat_minor": 0,
  "metadata": {
    "colab": {
      "name": "Quality Inspector.ipynb",
      "provenance": [],
      "authorship_tag": "ABX9TyP1+K7QEJqdNk+1TFESvXw0",
      "include_colab_link": true
    },
    "kernelspec": {
      "name": "python3",
      "display_name": "Python 3"
    },
    "language_info": {
      "name": "python"
    }
  },
  "cells": [
    {
      "cell_type": "markdown",
      "metadata": {
        "id": "view-in-github",
        "colab_type": "text"
      },
      "source": [
        "<a href=\"https://colab.research.google.com/github/Gltknzk/Data-Quality-/blob/master/Quality_Inspector.ipynb\" target=\"_parent\"><img src=\"https://colab.research.google.com/assets/colab-badge.svg\" alt=\"Open In Colab\"/></a>"
      ]
    },
    {
      "cell_type": "markdown",
      "source": [
        "**---------------------- DATA QUALITY METRICS----------------------**\n",
        "1. Completeness\n",
        "This measures whether all the necessary data is present in a specific dataset. You can think about completeness in one of two ways: at the record level or at the attribute level. Measuring completeness at the attribute level is a little more complex however, as not all fields will be mandatory.\n",
        "\n",
        "2. Accuracy\n",
        "How accurately does your data reflect the real-world object? In the financial sector, data accuracy is usually black or white – it either is or isn’t accurate. That’s because the number of pounds and pennies in an account is a precise number.\n",
        "Data accuracy is critical in large organizations, where the penalties for failure are high.\n",
        "\n",
        "3. Consistency\n",
        "Maintaining synchronicity between different databases is essential. To ensure data remains consistent on a daily basis, software systems are often the answer.\n",
        "\n",
        "4. Validity\n",
        "Validity is a measure of how well data conforms to required value attributes. For example, ensuring dates conform to the same format, i.e., date/month/year or month/date/year.\n",
        "\n",
        "5. Timeliness\n",
        "Timeliness reflects the accuracy of data at a specific point in time. An example of this is when a customer moves to a new house, how timely are they in informing their bank of their new address? Few people do this immediately, so there will be a negative impact on the timeliness of their data.\n",
        "\n",
        "6. Integrity\n",
        "To ensure data integrity, it’s important to maintain all the data quality metrics we’ve mentioned above as your data moves between different systems. Typically, data stored in multiple systems breaks data integrity.\n",
        "\n",
        "In order to measure the quaily of a dataset, It may be helpful to analyze missing values, duplicated values, multicolinearity and erroraneous values for a given dataset.  \n",
        "\n"
      ],
      "metadata": {
        "id": "X8c6TIYWL_nW"
      }
    },
    {
      "cell_type": "markdown",
      "source": [
        "# Importing Libraries"
      ],
      "metadata": {
        "id": "iuoAXS1wd03h"
      }
    },
    {
      "cell_type": "code",
      "source": [
        "import pandas_profiling\n",
        "import pyforest\n",
        "\n",
        "import ipywidgets\n",
        "from ipywidgets import interact\n",
        "\n",
        "import numpy as np\n",
        "import pandas as pd \n",
        "\n",
        "import seaborn as sns\n",
        "import matplotlib.pyplot as plt\n",
        "%matplotlib inline\n",
        "import matplotlib.ticker as mticker\n",
        "\n",
        "# Importing plotly and cufflinks in offline mode\n",
        "import plotly.express as px\n",
        "import cufflinks as cf\n",
        "import plotly.offline\n",
        "cf.go_offline()\n",
        "cf.set_config_file(offline=False, world_readable=True)\n",
        "\n",
        "!pip install termcolor\n",
        "from termcolor import colored\n",
        "from termcolor import cprint\n",
        "\n",
        "from wordcloud import WordCloud\n",
        "\n",
        "import scipy.stats as stats\n",
        "import statsmodels.api as sm\n",
        "import statsmodels.formula.api as smf\n",
        "import missingno as msno \n",
        "\n",
        "import datetime as dt\n",
        "from datetime import datetime\n",
        "from sklearn.cluster import KMeans\n",
        "from sklearn.compose import make_column_transformer\n",
        "from sklearn.decomposition import PCA\n",
        "from sklearn.discriminant_analysis import LinearDiscriminantAnalysis\n",
        "from sklearn.ensemble import RandomForestRegressor, RandomForestClassifier, GradientBoostingRegressor \n",
        "from sklearn.ensemble import ExtraTreesRegressor, AdaBoostClassifier\n",
        "from sklearn.feature_selection import SelectKBest, SelectPercentile, f_classif, f_regression, mutual_info_regression\n",
        "from sklearn.impute import SimpleImputer, KNNImputer\n",
        "from sklearn.linear_model import LinearRegression, Lasso, Ridge, ElasticNet\n",
        "from sklearn.metrics import plot_confusion_matrix, r2_score, mean_absolute_error, mean_squared_error, classification_report \n",
        "from sklearn.metrics import confusion_matrix, accuracy_score, classification_report\n",
        "from sklearn.metrics import make_scorer, precision_score, precision_recall_curve, plot_precision_recall_curve \n",
        "from sklearn.metrics import plot_roc_curve, roc_auc_score, roc_curve, f1_score, accuracy_score, recall_score\n",
        "from sklearn.model_selection import RepeatedStratifiedKFold, KFold, cross_val_predict, train_test_split\n",
        "from sklearn.model_selection import StratifiedKFold, GridSearchCV, cross_val_score, cross_validate\n",
        "from sklearn.naive_bayes import GaussianNB\n",
        "from sklearn.neighbors import KNeighborsRegressor, KNeighborsClassifier\n",
        "from sklearn.pipeline import make_pipeline, Pipeline\n",
        "from sklearn.preprocessing import scale, StandardScaler, MinMaxScaler, RobustScaler\n",
        "from sklearn.preprocessing import PolynomialFeatures, OneHotEncoder, PowerTransformer, LabelEncoder \n",
        "from sklearn.svm import SVR, SVC\n",
        "from sklearn.tree import plot_tree, DecisionTreeClassifier\n",
        "\n",
        "from xgboost import XGBRegressor, XGBClassifier, plot_importance\n",
        "\n",
        "# Ignore Warnings\n",
        "import warnings\n",
        "warnings.filterwarnings(\"ignore\")\n",
        "warnings.warn(\"this will not show\")\n",
        "\n",
        "# Figure&Display options\n",
        "plt.rcParams[\"figure.figsize\"] = (10,6)\n",
        "pd.set_option('max_colwidth',200)\n",
        "pd.set_option('display.max_rows', 1000)\n",
        "pd.set_option('display.max_columns', 200)\n",
        "pd.set_option('display.float_format', lambda x: '%.3f' % x)"
      ],
      "metadata": {
        "colab": {
          "base_uri": "https://localhost:8080/",
          "height": 52
        },
        "id": "Os4FgPbTQOQB",
        "outputId": "d36308eb-9705-4b57-fe0e-95bd0e69671c"
      },
      "execution_count": 33,
      "outputs": [
        {
          "output_type": "display_data",
          "data": {
            "text/html": [
              "        <script type=\"text/javascript\">\n",
              "        window.PlotlyConfig = {MathJaxConfig: 'local'};\n",
              "        if (window.MathJax) {MathJax.Hub.Config({SVG: {font: \"STIX-Web\"}});}\n",
              "        if (typeof require !== 'undefined') {\n",
              "        require.undef(\"plotly\");\n",
              "        requirejs.config({\n",
              "            paths: {\n",
              "                'plotly': ['https://cdn.plot.ly/plotly-2.8.3.min']\n",
              "            }\n",
              "        });\n",
              "        require(['plotly'], function(Plotly) {\n",
              "            window._Plotly = Plotly;\n",
              "        });\n",
              "        }\n",
              "        </script>\n",
              "        "
            ]
          },
          "metadata": {}
        },
        {
          "output_type": "stream",
          "name": "stdout",
          "text": [
            "Looking in indexes: https://pypi.org/simple, https://us-python.pkg.dev/colab-wheels/public/simple/\n",
            "Requirement already satisfied: termcolor in /usr/local/lib/python3.7/dist-packages (1.1.0)\n"
          ]
        }
      ]
    },
    {
      "cell_type": "code",
      "source": [
        "from ydata_quality import DataQuality"
      ],
      "metadata": {
        "id": "uH9rKST4wVG2"
      },
      "execution_count": 34,
      "outputs": []
    },
    {
      "cell_type": "code",
      "source": [
        "!pip install pyforest"
      ],
      "metadata": {
        "colab": {
          "base_uri": "https://localhost:8080/"
        },
        "id": "y76p7tGSboOa",
        "outputId": "af05eca4-64b9-4a83-c8af-7172f2b591d6"
      },
      "execution_count": 35,
      "outputs": [
        {
          "output_type": "stream",
          "name": "stdout",
          "text": [
            "Looking in indexes: https://pypi.org/simple, https://us-python.pkg.dev/colab-wheels/public/simple/\n",
            "Requirement already satisfied: pyforest in /usr/local/lib/python3.7/dist-packages (1.1.0)\n"
          ]
        }
      ]
    },
    {
      "cell_type": "markdown",
      "source": [
        "# Functions for Data Summary"
      ],
      "metadata": {
        "id": "xczZxUDBd9i3"
      }
    },
    {
      "cell_type": "code",
      "source": [
        "def Data_Summary(df):\n",
        "    print(colored(\"Shape:\", attrs=['bold']), df.shape,'\\n', \n",
        "          colored('*'*100, 'red', attrs = ['bold']),\n",
        "          colored(\"\\nInfo:\\n\", attrs = ['bold']), sep = '')\n",
        "    print(df.info(), '\\n', \n",
        "          colored('*'*100, 'red', attrs = ['bold']), sep = '')\n",
        "    print(colored(\"Number of Uniques:\\n\", attrs = ['bold']), df.nunique(),'\\n',\n",
        "          colored('*'*100, 'red', attrs = ['bold']), sep = '')\n",
        "    print(colored(\"Missing Values:\\n\", attrs=['bold']), missing_values(df),'\\n', \n",
        "          colored('*'*100, 'red', attrs = ['bold']), sep = '')\n",
        "    print(colored(\"All Columns:\", attrs = ['bold']), list(df.columns),'\\n', \n",
        "          colored('*'*100, 'red', attrs = ['bold']), sep = '')\n",
        "\n",
        "    df.columns = df.columns.str.lower().str.replace('&', '_').str.replace(' ', '_')\n",
        "    print(colored(\"Columns after rename:\", attrs = ['bold']), list(df.columns),'\\n',\n",
        "          colored('*'*100, 'red', attrs = ['bold']), sep = '')  \n",
        "    print(colored(\"Descriptive Statistics \\n\", attrs = ['bold']), df.describe().round(2),'\\n',\n",
        "          colored('*'*100, 'red', attrs = ['bold']), sep = '') # Gives a statstical breakdown of the data.\n",
        "    print(colored(\"Descriptive Statistics (Categorical Columns) \\n\", attrs = ['bold']), df.describe(include = object).T,'\\n',\n",
        "          colored('*'*100, 'red', attrs = ['bold']), sep = '') # Gives a statstical breakdown of the data."
      ],
      "metadata": {
        "id": "lPK58SfythWn"
      },
      "execution_count": 15,
      "outputs": []
    },
    {
      "cell_type": "markdown",
      "source": [
        "# Functions for Missing Values, Multicolinearity and Duplicated Values"
      ],
      "metadata": {
        "id": "A9dT1XfBeKht"
      }
    },
    {
      "cell_type": "code",
      "source": [
        "def missing_values(df):\n",
        "    missing_number = df.isnull().sum().sort_values(ascending = False)\n",
        "    missing_percent = (df.isnull().sum() / df.isnull().count()).sort_values(ascending = False)\n",
        "    missing_values = pd.concat([missing_number, missing_percent], axis = 1, keys = ['Missing_Number', 'Missing_Percent'])\n",
        "    return missing_values[missing_values['Missing_Number'] > 0]"
      ],
      "metadata": {
        "id": "CgGjfh3DUscb"
      },
      "execution_count": 17,
      "outputs": []
    },
    {
      "cell_type": "code",
      "source": [
        "def multicolinearity_control(df):\n",
        "  feature = []\n",
        "  collinear = []\n",
        "  for col in df.corr().columns:\n",
        "    for i in df.corr().index:\n",
        "      if (abs(df.corr()[col][i]) > .9 and abs(df.corr()[col][i]) < 1):\n",
        "        feature.append(col)\n",
        "        collinear.append(i)\n",
        "        print(colored(f\"Multicolinearity alert in between:{col} - {i}\", \n",
        "                                  \"red\", attrs = ['bold']), df.shape,'\\n',\n",
        "                                  colored('*'*100, 'red', attrs = ['bold']), sep = '')\n",
        "\n",
        "def duplicate_values(df):\n",
        "    print(colored(\"Duplicate check...\", attrs = ['bold']), sep = '')\n",
        "    print(\"There are\", df.duplicated(subset = None, keep = 'first').sum(), \"duplicated observations in the dataset.\")\n",
        "    duplicate_values = df.duplicated(subset = None, keep = 'first').sum()\n",
        "    #if duplicate_values > 0:\n",
        "        #df.drop_duplicates(keep = 'first', inplace = True)\n",
        "        #print(duplicate_values, colored(\" Duplicates were dropped!\"),'\\n',\n",
        "              #colored('*'*100, 'red', attrs = ['bold']), sep = '')\n",
        "#     else:\n",
        "#         print(colored(\"There are no duplicates\"),'\\n',\n",
        "#               colored('*'*100, 'red', attrs = ['bold']), sep = '')     \n",
        "        \n",
        "# def drop_columns(df, drop_columns):\n",
        "#     if drop_columns != []:\n",
        "#         df.drop(drop_columns, axis = 1, inplace = True)\n",
        "#         print(drop_columns, 'were dropped')\n",
        "#     else:\n",
        "#         print(colored('We will now check the missing values and if necessary, the related columns will be dropped!', attrs = ['bold']),'\\n',\n",
        "#               colored('*'*100, 'red', attrs = ['bold']), sep = '')\n",
        "        "
      ],
      "metadata": {
        "id": "hmGGzXYZcpeO"
      },
      "execution_count": 99,
      "outputs": []
    },
    {
      "cell_type": "markdown",
      "source": [
        "# Loading Dataset"
      ],
      "metadata": {
        "id": "mCsb1-xweUEH"
      }
    },
    {
      "cell_type": "code",
      "source": [
        "df=pd.read_csv(\"/content/store_sharing.csv\")"
      ],
      "metadata": {
        "id": "wmur3xKFPrV6"
      },
      "execution_count": 115,
      "outputs": []
    },
    {
      "cell_type": "markdown",
      "source": [
        "# Data Summary"
      ],
      "metadata": {
        "id": "3ba2B0TEeakM"
      }
    },
    {
      "cell_type": "code",
      "source": [
        "Data_Summary(df)"
      ],
      "metadata": {
        "colab": {
          "base_uri": "https://localhost:8080/"
        },
        "id": "Y36efYnFtp57",
        "outputId": "59d32c32-c60b-4d98-ee5a-8ae72758b40f"
      },
      "execution_count": 116,
      "outputs": [
        {
          "output_type": "stream",
          "name": "stdout",
          "text": [
            "\u001b[1mShape:\u001b[0m(17414, 10)\n",
            "\u001b[1m\u001b[31m****************************************************************************************************\u001b[0m\u001b[1m\n",
            "Info:\n",
            "\u001b[0m\n",
            "<class 'pandas.core.frame.DataFrame'>\n",
            "RangeIndex: 17414 entries, 0 to 17413\n",
            "Data columns (total 10 columns):\n",
            " #   Column        Non-Null Count  Dtype  \n",
            "---  ------        --------------  -----  \n",
            " 0   timestamp     17414 non-null  object \n",
            " 1   cnt           17414 non-null  int64  \n",
            " 2   t1            17414 non-null  float64\n",
            " 3   t2            17414 non-null  float64\n",
            " 4   hum           17414 non-null  float64\n",
            " 5   wind_speed    17414 non-null  float64\n",
            " 6   weather_code  17414 non-null  float64\n",
            " 7   is_holiday    17414 non-null  float64\n",
            " 8   is_weekend    17414 non-null  float64\n",
            " 9   season        17414 non-null  float64\n",
            "dtypes: float64(8), int64(1), object(1)\n",
            "memory usage: 1.3+ MB\n",
            "None\n",
            "\u001b[1m\u001b[31m****************************************************************************************************\u001b[0m\n",
            "\u001b[1mNumber of Uniques:\n",
            "\u001b[0mtimestamp       17414\n",
            "cnt              3781\n",
            "t1                 73\n",
            "t2                 82\n",
            "hum               143\n",
            "wind_speed        103\n",
            "weather_code        7\n",
            "is_holiday          2\n",
            "is_weekend          2\n",
            "season              4\n",
            "dtype: int64\n",
            "\u001b[1m\u001b[31m****************************************************************************************************\u001b[0m\n",
            "\u001b[1mMissing Values:\n",
            "\u001b[0mEmpty DataFrame\n",
            "Columns: [Missing_Number, Missing_Percent]\n",
            "Index: []\n",
            "\u001b[1m\u001b[31m****************************************************************************************************\u001b[0m\n",
            "\u001b[1mAll Columns:\u001b[0m['timestamp', 'cnt', 't1', 't2', 'hum', 'wind_speed', 'weather_code', 'is_holiday', 'is_weekend', 'season']\n",
            "\u001b[1m\u001b[31m****************************************************************************************************\u001b[0m\n",
            "\u001b[1mColumns after rename:\u001b[0m['timestamp', 'cnt', 't1', 't2', 'hum', 'wind_speed', 'weather_code', 'is_holiday', 'is_weekend', 'season']\n",
            "\u001b[1m\u001b[31m****************************************************************************************************\u001b[0m\n",
            "\u001b[1mDescriptive Statistics \n",
            "\u001b[0m            cnt        t1        t2       hum  wind_speed  weather_code  \\\n",
            "count 17414.000 17414.000 17414.000 17414.000   17414.000     17414.000   \n",
            "mean   1143.100    12.470    11.520    72.320      15.910         2.720   \n",
            "std    1085.110     5.570     6.620    14.310       7.890         2.340   \n",
            "min       0.000    -1.500    -6.000    20.500       0.000         1.000   \n",
            "25%     257.000     8.000     6.000    63.000      10.000         1.000   \n",
            "50%     844.000    12.500    12.500    74.500      15.000         2.000   \n",
            "75%    1671.750    16.000    16.000    83.000      20.500         3.000   \n",
            "max    7860.000    34.000    34.000   100.000      56.500        26.000   \n",
            "\n",
            "       is_holiday  is_weekend    season  \n",
            "count   17414.000   17414.000 17414.000  \n",
            "mean        0.020       0.290     1.490  \n",
            "std         0.150       0.450     1.120  \n",
            "min         0.000       0.000     0.000  \n",
            "25%         0.000       0.000     0.000  \n",
            "50%         0.000       0.000     1.000  \n",
            "75%         0.000       1.000     2.000  \n",
            "max         1.000       1.000     3.000  \n",
            "\u001b[1m\u001b[31m****************************************************************************************************\u001b[0m\n",
            "\u001b[1mDescriptive Statistics (Categorical Columns) \n",
            "\u001b[0m           count unique                  top freq\n",
            "timestamp  17414  17414  2016-01-30 21:00:00    1\n",
            "\u001b[1m\u001b[31m****************************************************************************************************\u001b[0m\n"
          ]
        }
      ]
    },
    {
      "cell_type": "markdown",
      "source": [
        "# Missing Values, Multicolienaity and Duplicated Values"
      ],
      "metadata": {
        "id": "3ILfN0trfmpg"
      }
    },
    {
      "cell_type": "code",
      "source": [
        "multicolinearity_control(df)"
      ],
      "metadata": {
        "colab": {
          "base_uri": "https://localhost:8080/"
        },
        "id": "WphsK6pXV5wl",
        "outputId": "70c77c5d-db1c-4109-90fb-dbec6368bada"
      },
      "execution_count": 117,
      "outputs": [
        {
          "output_type": "stream",
          "name": "stdout",
          "text": [
            "\u001b[1m\u001b[31mMulticolinearity alert in between:t1 - t2\u001b[0m(17414, 10)\n",
            "\u001b[1m\u001b[31m****************************************************************************************************\u001b[0m\n",
            "\u001b[1m\u001b[31mMulticolinearity alert in between:t2 - t1\u001b[0m(17414, 10)\n",
            "\u001b[1m\u001b[31m****************************************************************************************************\u001b[0m\n"
          ]
        }
      ]
    },
    {
      "cell_type": "code",
      "source": [
        "duplicate_values(df)"
      ],
      "metadata": {
        "colab": {
          "base_uri": "https://localhost:8080/"
        },
        "id": "gCW8genZdJ6C",
        "outputId": "f1d02690-5a2a-45f7-bdad-0a94ba7929b3"
      },
      "execution_count": 110,
      "outputs": [
        {
          "output_type": "stream",
          "name": "stdout",
          "text": [
            "\u001b[1mDuplicate check...\u001b[0m\n",
            "There are 0 duplicated observations in the dataset.\n"
          ]
        }
      ]
    },
    {
      "cell_type": "code",
      "source": [
        "missing_values(df)"
      ],
      "metadata": {
        "colab": {
          "base_uri": "https://localhost:8080/",
          "height": 50
        },
        "id": "V1zS7lWrc3dS",
        "outputId": "ca79b20f-9d5b-4c9a-bc7a-faf046caf6cb"
      },
      "execution_count": 111,
      "outputs": [
        {
          "output_type": "execute_result",
          "data": {
            "text/plain": [
              "Empty DataFrame\n",
              "Columns: [Missing_Number, Missing_Percent]\n",
              "Index: []"
            ],
            "text/html": [
              "\n",
              "  <div id=\"df-3d6f2f96-dcbf-4799-8b43-79e32266b162\">\n",
              "    <div class=\"colab-df-container\">\n",
              "      <div>\n",
              "<style scoped>\n",
              "    .dataframe tbody tr th:only-of-type {\n",
              "        vertical-align: middle;\n",
              "    }\n",
              "\n",
              "    .dataframe tbody tr th {\n",
              "        vertical-align: top;\n",
              "    }\n",
              "\n",
              "    .dataframe thead th {\n",
              "        text-align: right;\n",
              "    }\n",
              "</style>\n",
              "<table border=\"1\" class=\"dataframe\">\n",
              "  <thead>\n",
              "    <tr style=\"text-align: right;\">\n",
              "      <th></th>\n",
              "      <th>Missing_Number</th>\n",
              "      <th>Missing_Percent</th>\n",
              "    </tr>\n",
              "  </thead>\n",
              "  <tbody>\n",
              "  </tbody>\n",
              "</table>\n",
              "</div>\n",
              "      <button class=\"colab-df-convert\" onclick=\"convertToInteractive('df-3d6f2f96-dcbf-4799-8b43-79e32266b162')\"\n",
              "              title=\"Convert this dataframe to an interactive table.\"\n",
              "              style=\"display:none;\">\n",
              "        \n",
              "  <svg xmlns=\"http://www.w3.org/2000/svg\" height=\"24px\"viewBox=\"0 0 24 24\"\n",
              "       width=\"24px\">\n",
              "    <path d=\"M0 0h24v24H0V0z\" fill=\"none\"/>\n",
              "    <path d=\"M18.56 5.44l.94 2.06.94-2.06 2.06-.94-2.06-.94-.94-2.06-.94 2.06-2.06.94zm-11 1L8.5 8.5l.94-2.06 2.06-.94-2.06-.94L8.5 2.5l-.94 2.06-2.06.94zm10 10l.94 2.06.94-2.06 2.06-.94-2.06-.94-.94-2.06-.94 2.06-2.06.94z\"/><path d=\"M17.41 7.96l-1.37-1.37c-.4-.4-.92-.59-1.43-.59-.52 0-1.04.2-1.43.59L10.3 9.45l-7.72 7.72c-.78.78-.78 2.05 0 2.83L4 21.41c.39.39.9.59 1.41.59.51 0 1.02-.2 1.41-.59l7.78-7.78 2.81-2.81c.8-.78.8-2.07 0-2.86zM5.41 20L4 18.59l7.72-7.72 1.47 1.35L5.41 20z\"/>\n",
              "  </svg>\n",
              "      </button>\n",
              "      \n",
              "  <style>\n",
              "    .colab-df-container {\n",
              "      display:flex;\n",
              "      flex-wrap:wrap;\n",
              "      gap: 12px;\n",
              "    }\n",
              "\n",
              "    .colab-df-convert {\n",
              "      background-color: #E8F0FE;\n",
              "      border: none;\n",
              "      border-radius: 50%;\n",
              "      cursor: pointer;\n",
              "      display: none;\n",
              "      fill: #1967D2;\n",
              "      height: 32px;\n",
              "      padding: 0 0 0 0;\n",
              "      width: 32px;\n",
              "    }\n",
              "\n",
              "    .colab-df-convert:hover {\n",
              "      background-color: #E2EBFA;\n",
              "      box-shadow: 0px 1px 2px rgba(60, 64, 67, 0.3), 0px 1px 3px 1px rgba(60, 64, 67, 0.15);\n",
              "      fill: #174EA6;\n",
              "    }\n",
              "\n",
              "    [theme=dark] .colab-df-convert {\n",
              "      background-color: #3B4455;\n",
              "      fill: #D2E3FC;\n",
              "    }\n",
              "\n",
              "    [theme=dark] .colab-df-convert:hover {\n",
              "      background-color: #434B5C;\n",
              "      box-shadow: 0px 1px 3px 1px rgba(0, 0, 0, 0.15);\n",
              "      filter: drop-shadow(0px 1px 2px rgba(0, 0, 0, 0.3));\n",
              "      fill: #FFFFFF;\n",
              "    }\n",
              "  </style>\n",
              "\n",
              "      <script>\n",
              "        const buttonEl =\n",
              "          document.querySelector('#df-3d6f2f96-dcbf-4799-8b43-79e32266b162 button.colab-df-convert');\n",
              "        buttonEl.style.display =\n",
              "          google.colab.kernel.accessAllowed ? 'block' : 'none';\n",
              "\n",
              "        async function convertToInteractive(key) {\n",
              "          const element = document.querySelector('#df-3d6f2f96-dcbf-4799-8b43-79e32266b162');\n",
              "          const dataTable =\n",
              "            await google.colab.kernel.invokeFunction('convertToInteractive',\n",
              "                                                     [key], {});\n",
              "          if (!dataTable) return;\n",
              "\n",
              "          const docLinkHtml = 'Like what you see? Visit the ' +\n",
              "            '<a target=\"_blank\" href=https://colab.research.google.com/notebooks/data_table.ipynb>data table notebook</a>'\n",
              "            + ' to learn more about interactive tables.';\n",
              "          element.innerHTML = '';\n",
              "          dataTable['output_type'] = 'display_data';\n",
              "          await google.colab.output.renderOutput(dataTable, element);\n",
              "          const docLink = document.createElement('div');\n",
              "          docLink.innerHTML = docLinkHtml;\n",
              "          element.appendChild(docLink);\n",
              "        }\n",
              "      </script>\n",
              "    </div>\n",
              "  </div>\n",
              "  "
            ]
          },
          "metadata": {},
          "execution_count": 111
        }
      ]
    },
    {
      "cell_type": "code",
      "execution_count": 4,
      "metadata": {
        "id": "ZILYrO6sKXKw"
      },
      "outputs": [],
      "source": [
        "from ydata_quality.duplicates import DuplicateChecker"
      ]
    },
    {
      "cell_type": "code",
      "source": [
        "dc = DuplicateChecker(df=df)"
      ],
      "metadata": {
        "id": "3p_hwuqGCWlS"
      },
      "execution_count": 51,
      "outputs": []
    },
    {
      "cell_type": "code",
      "source": [
        "results = dc.evaluate()\n",
        "results.keys()"
      ],
      "metadata": {
        "colab": {
          "base_uri": "https://localhost:8080/"
        },
        "id": "DUbi5ndNCcCv",
        "outputId": "457bfa82-5231-4563-83be-fd16cff41b03"
      },
      "execution_count": 52,
      "outputs": [
        {
          "output_type": "stream",
          "name": "stdout",
          "text": [
            "WARNING | There are no entities defined to run the analysis. Skipping the test.\n",
            "INFO | No duplicate columns were found.\n",
            "\u001b[1mWarnings:\u001b[0m\n",
            "\tTOTAL: 1 warning(s)\n",
            "\t\u001b[1m\u001b[38;5;11mPriority 2\u001b[0m: 1 warning(s)\n",
            "\n",
            "\n",
            "\u001b[38;5;11m\u001b[1mPriority 2\u001b[0m - \u001b[1musage allowed, limited human intelligibility\u001b[0m:\n",
            "\t\u001b[38;5;11m*\u001b[0m \u001b[1m[DUPLICATES\u001b[0m - \u001b[4mEXACT DUPLICATES]\u001b[0m Found 5268 instances with exact duplicate feature values.\n",
            "\n"
          ]
        },
        {
          "output_type": "execute_result",
          "data": {
            "text/plain": [
              "dict_keys(['exact_duplicates', 'entity_duplicates', 'duplicate_columns'])"
            ]
          },
          "metadata": {},
          "execution_count": 52
        }
      ]
    },
    {
      "cell_type": "code",
      "source": [
        "# Retrieve the warnings\n",
        "warnings = dc.get_warnings()"
      ],
      "metadata": {
        "id": "PcYBO0cnEO0K"
      },
      "execution_count": 53,
      "outputs": []
    },
    {
      "cell_type": "code",
      "source": [
        "exact_duplicates_out = dc.exact_duplicates()\n",
        "exact_duplicates_out.head()"
      ],
      "metadata": {
        "colab": {
          "base_uri": "https://localhost:8080/",
          "height": 206
        },
        "id": "G6ii5KqnETcu",
        "outputId": "080d54e2-31f3-4ab2-eb27-553f24fd5761"
      },
      "execution_count": 54,
      "outputs": [
        {
          "output_type": "execute_result",
          "data": {
            "text/plain": [
              "    invoiceno stockcode                        description  quantity  \\\n",
              "517    536409     21866        UNION JACK FLAG LUGGAGE TAG         1   \n",
              "527    536409     22866      HAND WARMER SCOTTY DOG DESIGN         1   \n",
              "537    536409     22900    SET 2 TEA TOWELS I LOVE LONDON          1   \n",
              "539    536409     22111       SCOTTIE DOG HOT WATER BOTTLE         1   \n",
              "555    536412     22327  ROUND SNACK BOXES SET OF 4 SKULLS         1   \n",
              "\n",
              "       invoicedate  unitprice  customerid         country  \n",
              "517  12/1/10 11:45      1.250   17908.000  United Kingdom  \n",
              "527  12/1/10 11:45      2.100   17908.000  United Kingdom  \n",
              "537  12/1/10 11:45      2.950   17908.000  United Kingdom  \n",
              "539  12/1/10 11:45      4.950   17908.000  United Kingdom  \n",
              "555  12/1/10 11:49      2.950   17920.000  United Kingdom  "
            ],
            "text/html": [
              "\n",
              "  <div id=\"df-d596f02d-8479-46a4-aeab-cc1bc15f2e1f\">\n",
              "    <div class=\"colab-df-container\">\n",
              "      <div>\n",
              "<style scoped>\n",
              "    .dataframe tbody tr th:only-of-type {\n",
              "        vertical-align: middle;\n",
              "    }\n",
              "\n",
              "    .dataframe tbody tr th {\n",
              "        vertical-align: top;\n",
              "    }\n",
              "\n",
              "    .dataframe thead th {\n",
              "        text-align: right;\n",
              "    }\n",
              "</style>\n",
              "<table border=\"1\" class=\"dataframe\">\n",
              "  <thead>\n",
              "    <tr style=\"text-align: right;\">\n",
              "      <th></th>\n",
              "      <th>invoiceno</th>\n",
              "      <th>stockcode</th>\n",
              "      <th>description</th>\n",
              "      <th>quantity</th>\n",
              "      <th>invoicedate</th>\n",
              "      <th>unitprice</th>\n",
              "      <th>customerid</th>\n",
              "      <th>country</th>\n",
              "    </tr>\n",
              "  </thead>\n",
              "  <tbody>\n",
              "    <tr>\n",
              "      <th>517</th>\n",
              "      <td>536409</td>\n",
              "      <td>21866</td>\n",
              "      <td>UNION JACK FLAG LUGGAGE TAG</td>\n",
              "      <td>1</td>\n",
              "      <td>12/1/10 11:45</td>\n",
              "      <td>1.250</td>\n",
              "      <td>17908.000</td>\n",
              "      <td>United Kingdom</td>\n",
              "    </tr>\n",
              "    <tr>\n",
              "      <th>527</th>\n",
              "      <td>536409</td>\n",
              "      <td>22866</td>\n",
              "      <td>HAND WARMER SCOTTY DOG DESIGN</td>\n",
              "      <td>1</td>\n",
              "      <td>12/1/10 11:45</td>\n",
              "      <td>2.100</td>\n",
              "      <td>17908.000</td>\n",
              "      <td>United Kingdom</td>\n",
              "    </tr>\n",
              "    <tr>\n",
              "      <th>537</th>\n",
              "      <td>536409</td>\n",
              "      <td>22900</td>\n",
              "      <td>SET 2 TEA TOWELS I LOVE LONDON</td>\n",
              "      <td>1</td>\n",
              "      <td>12/1/10 11:45</td>\n",
              "      <td>2.950</td>\n",
              "      <td>17908.000</td>\n",
              "      <td>United Kingdom</td>\n",
              "    </tr>\n",
              "    <tr>\n",
              "      <th>539</th>\n",
              "      <td>536409</td>\n",
              "      <td>22111</td>\n",
              "      <td>SCOTTIE DOG HOT WATER BOTTLE</td>\n",
              "      <td>1</td>\n",
              "      <td>12/1/10 11:45</td>\n",
              "      <td>4.950</td>\n",
              "      <td>17908.000</td>\n",
              "      <td>United Kingdom</td>\n",
              "    </tr>\n",
              "    <tr>\n",
              "      <th>555</th>\n",
              "      <td>536412</td>\n",
              "      <td>22327</td>\n",
              "      <td>ROUND SNACK BOXES SET OF 4 SKULLS</td>\n",
              "      <td>1</td>\n",
              "      <td>12/1/10 11:49</td>\n",
              "      <td>2.950</td>\n",
              "      <td>17920.000</td>\n",
              "      <td>United Kingdom</td>\n",
              "    </tr>\n",
              "  </tbody>\n",
              "</table>\n",
              "</div>\n",
              "      <button class=\"colab-df-convert\" onclick=\"convertToInteractive('df-d596f02d-8479-46a4-aeab-cc1bc15f2e1f')\"\n",
              "              title=\"Convert this dataframe to an interactive table.\"\n",
              "              style=\"display:none;\">\n",
              "        \n",
              "  <svg xmlns=\"http://www.w3.org/2000/svg\" height=\"24px\"viewBox=\"0 0 24 24\"\n",
              "       width=\"24px\">\n",
              "    <path d=\"M0 0h24v24H0V0z\" fill=\"none\"/>\n",
              "    <path d=\"M18.56 5.44l.94 2.06.94-2.06 2.06-.94-2.06-.94-.94-2.06-.94 2.06-2.06.94zm-11 1L8.5 8.5l.94-2.06 2.06-.94-2.06-.94L8.5 2.5l-.94 2.06-2.06.94zm10 10l.94 2.06.94-2.06 2.06-.94-2.06-.94-.94-2.06-.94 2.06-2.06.94z\"/><path d=\"M17.41 7.96l-1.37-1.37c-.4-.4-.92-.59-1.43-.59-.52 0-1.04.2-1.43.59L10.3 9.45l-7.72 7.72c-.78.78-.78 2.05 0 2.83L4 21.41c.39.39.9.59 1.41.59.51 0 1.02-.2 1.41-.59l7.78-7.78 2.81-2.81c.8-.78.8-2.07 0-2.86zM5.41 20L4 18.59l7.72-7.72 1.47 1.35L5.41 20z\"/>\n",
              "  </svg>\n",
              "      </button>\n",
              "      \n",
              "  <style>\n",
              "    .colab-df-container {\n",
              "      display:flex;\n",
              "      flex-wrap:wrap;\n",
              "      gap: 12px;\n",
              "    }\n",
              "\n",
              "    .colab-df-convert {\n",
              "      background-color: #E8F0FE;\n",
              "      border: none;\n",
              "      border-radius: 50%;\n",
              "      cursor: pointer;\n",
              "      display: none;\n",
              "      fill: #1967D2;\n",
              "      height: 32px;\n",
              "      padding: 0 0 0 0;\n",
              "      width: 32px;\n",
              "    }\n",
              "\n",
              "    .colab-df-convert:hover {\n",
              "      background-color: #E2EBFA;\n",
              "      box-shadow: 0px 1px 2px rgba(60, 64, 67, 0.3), 0px 1px 3px 1px rgba(60, 64, 67, 0.15);\n",
              "      fill: #174EA6;\n",
              "    }\n",
              "\n",
              "    [theme=dark] .colab-df-convert {\n",
              "      background-color: #3B4455;\n",
              "      fill: #D2E3FC;\n",
              "    }\n",
              "\n",
              "    [theme=dark] .colab-df-convert:hover {\n",
              "      background-color: #434B5C;\n",
              "      box-shadow: 0px 1px 3px 1px rgba(0, 0, 0, 0.15);\n",
              "      filter: drop-shadow(0px 1px 2px rgba(0, 0, 0, 0.3));\n",
              "      fill: #FFFFFF;\n",
              "    }\n",
              "  </style>\n",
              "\n",
              "      <script>\n",
              "        const buttonEl =\n",
              "          document.querySelector('#df-d596f02d-8479-46a4-aeab-cc1bc15f2e1f button.colab-df-convert');\n",
              "        buttonEl.style.display =\n",
              "          google.colab.kernel.accessAllowed ? 'block' : 'none';\n",
              "\n",
              "        async function convertToInteractive(key) {\n",
              "          const element = document.querySelector('#df-d596f02d-8479-46a4-aeab-cc1bc15f2e1f');\n",
              "          const dataTable =\n",
              "            await google.colab.kernel.invokeFunction('convertToInteractive',\n",
              "                                                     [key], {});\n",
              "          if (!dataTable) return;\n",
              "\n",
              "          const docLinkHtml = 'Like what you see? Visit the ' +\n",
              "            '<a target=\"_blank\" href=https://colab.research.google.com/notebooks/data_table.ipynb>data table notebook</a>'\n",
              "            + ' to learn more about interactive tables.';\n",
              "          element.innerHTML = '';\n",
              "          dataTable['output_type'] = 'display_data';\n",
              "          await google.colab.output.renderOutput(dataTable, element);\n",
              "          const docLink = document.createElement('div');\n",
              "          docLink.innerHTML = docLinkHtml;\n",
              "          element.appendChild(docLink);\n",
              "        }\n",
              "      </script>\n",
              "    </div>\n",
              "  </div>\n",
              "  "
            ]
          },
          "metadata": {},
          "execution_count": 54
        }
      ]
    },
    {
      "cell_type": "code",
      "source": [
        "dc.duplicate_columns()"
      ],
      "metadata": {
        "colab": {
          "base_uri": "https://localhost:8080/"
        },
        "id": "yJyp6TWSF5Pv",
        "outputId": "5a998d85-06b9-4b44-c82f-b2cee8c782f4"
      },
      "execution_count": 55,
      "outputs": [
        {
          "output_type": "stream",
          "name": "stdout",
          "text": [
            "INFO | No duplicate columns were found.\n"
          ]
        }
      ]
    },
    {
      "cell_type": "code",
      "source": [
        "!pip install --upgrade klib"
      ],
      "metadata": {
        "colab": {
          "base_uri": "https://localhost:8080/"
        },
        "id": "01If77LmNZew",
        "outputId": "afd6a84b-4848-46de-8c3f-299edfa689cf"
      },
      "execution_count": 56,
      "outputs": [
        {
          "output_type": "stream",
          "name": "stdout",
          "text": [
            "Looking in indexes: https://pypi.org/simple, https://us-python.pkg.dev/colab-wheels/public/simple/\n",
            "Requirement already satisfied: klib in /usr/local/lib/python3.7/dist-packages (1.0.1)\n",
            "Requirement already satisfied: matplotlib<4.0.0,>=3.0.3 in /usr/local/lib/python3.7/dist-packages (from klib) (3.4.2)\n",
            "Requirement already satisfied: Jinja2<4.0.0,>=3.0.3 in /usr/local/lib/python3.7/dist-packages (from klib) (3.1.2)\n",
            "Requirement already satisfied: scipy<2.0.0,>=1.1.0 in /usr/local/lib/python3.7/dist-packages (from klib) (1.7.3)\n",
            "Requirement already satisfied: numpy<2.0.0,>=1.16.3 in /usr/local/lib/python3.7/dist-packages (from klib) (1.20.3)\n",
            "Requirement already satisfied: pandas<2.0.0,>=1.1.2 in /usr/local/lib/python3.7/dist-packages (from klib) (1.2.5)\n",
            "Requirement already satisfied: seaborn<0.12.0,>=0.11.1 in /usr/local/lib/python3.7/dist-packages (from klib) (0.11.2)\n",
            "Requirement already satisfied: MarkupSafe>=2.0 in /usr/local/lib/python3.7/dist-packages (from Jinja2<4.0.0,>=3.0.3->klib) (2.0.1)\n",
            "Requirement already satisfied: pyparsing>=2.2.1 in /usr/local/lib/python3.7/dist-packages (from matplotlib<4.0.0,>=3.0.3->klib) (3.0.9)\n",
            "Requirement already satisfied: kiwisolver>=1.0.1 in /usr/local/lib/python3.7/dist-packages (from matplotlib<4.0.0,>=3.0.3->klib) (1.4.4)\n",
            "Requirement already satisfied: pillow>=6.2.0 in /usr/local/lib/python3.7/dist-packages (from matplotlib<4.0.0,>=3.0.3->klib) (7.1.2)\n",
            "Requirement already satisfied: python-dateutil>=2.7 in /usr/local/lib/python3.7/dist-packages (from matplotlib<4.0.0,>=3.0.3->klib) (2.8.2)\n",
            "Requirement already satisfied: cycler>=0.10 in /usr/local/lib/python3.7/dist-packages (from matplotlib<4.0.0,>=3.0.3->klib) (0.11.0)\n",
            "Requirement already satisfied: typing-extensions in /usr/local/lib/python3.7/dist-packages (from kiwisolver>=1.0.1->matplotlib<4.0.0,>=3.0.3->klib) (4.1.1)\n",
            "Requirement already satisfied: pytz>=2017.3 in /usr/local/lib/python3.7/dist-packages (from pandas<2.0.0,>=1.1.2->klib) (2022.1)\n",
            "Requirement already satisfied: six>=1.5 in /usr/local/lib/python3.7/dist-packages (from python-dateutil>=2.7->matplotlib<4.0.0,>=3.0.3->klib) (1.15.0)\n"
          ]
        }
      ]
    },
    {
      "cell_type": "code",
      "source": [
        "from ydata_quality.erroneous_data import ErroneousDataIdentifier"
      ],
      "metadata": {
        "id": "7923ugbMGHrI"
      },
      "execution_count": 57,
      "outputs": []
    },
    {
      "cell_type": "code",
      "source": [
        "edi = ErroneousDataIdentifier(df=df)"
      ],
      "metadata": {
        "id": "8g6YXEhUGJPq"
      },
      "execution_count": 112,
      "outputs": []
    },
    {
      "cell_type": "code",
      "source": [
        "edi.evaluate()"
      ],
      "metadata": {
        "colab": {
          "base_uri": "https://localhost:8080/"
        },
        "id": "0kCtbgyyGVfg",
        "outputId": "7686bcd3-1a00-43bf-b9b9-3323b247b789"
      },
      "execution_count": 113,
      "outputs": [
        {
          "output_type": "stream",
          "name": "stdout",
          "text": [
            "INFO | No predefined ED values from  the set {'', '(blank)', 'unknown', '?', 'n/a', 'unk', 'na'} were found in the dataset.\n",
            "\u001b[38;5;2mNo warnings found.\u001b[0m\n"
          ]
        },
        {
          "output_type": "execute_result",
          "data": {
            "text/plain": [
              "{'predefined_erroneous_data': None}"
            ]
          },
          "metadata": {},
          "execution_count": 113
        }
      ]
    },
    {
      "cell_type": "code",
      "source": [
        "edi.predefined_erroneous_data()"
      ],
      "metadata": {
        "colab": {
          "base_uri": "https://localhost:8080/"
        },
        "id": "DrKNzCHZGy5_",
        "outputId": "e925be2b-7336-45d0-b7f4-aedf45e4f69e"
      },
      "execution_count": 114,
      "outputs": [
        {
          "output_type": "stream",
          "name": "stdout",
          "text": [
            "INFO | No predefined ED values from  the set {'', '(blank)', 'unknown', '?', 'n/a', 'unk', 'na'} were found in the dataset.\n"
          ]
        }
      ]
    },
    {
      "cell_type": "code",
      "source": [
        "df.sample(10)"
      ],
      "metadata": {
        "colab": {
          "base_uri": "https://localhost:8080/",
          "height": 363
        },
        "id": "aMM9ZNpHXM0j",
        "outputId": "02294099-719b-40fd-d307-1bacd4e025e1"
      },
      "execution_count": 70,
      "outputs": [
        {
          "output_type": "execute_result",
          "data": {
            "text/plain": [
              "       invoiceno stockcode                       description  quantity  \\\n",
              "128254    547250     84598     BOYS ALPHABET IRON ON PATCHES         2   \n",
              "33753     539294     22834       HAND WARMER BABUSHKA DESIGN         2   \n",
              "120438    546655     20682  RED RETROSPOT CHILDRENS UMBRELLA         1   \n",
              "521664    580367     22422               TOOTHPASTE TUBE PEN         2   \n",
              "518587    580115     23526             WALL ART DOG LICENCE          4   \n",
              "517397    580054     22142      CHRISTMAS CRAFT WHITE FAIRY          3   \n",
              "158225    550279     22138     BAKING SET 9 PIECE RETROSPOT          6   \n",
              "240897    558118     21700       BIG DOUGHNUT FRIDGE MAGNETS         6   \n",
              "498176    578513     23581            JUMBO BAG PAISLEY PARK        20   \n",
              "406515    571797     22624              IVORY KITCHEN SCALES         1   \n",
              "\n",
              "           invoicedate  unitprice  customerid         country  \n",
              "128254    3/22/11 9:30      0.210         NaN  United Kingdom  \n",
              "33753   12/16/10 16:45      2.100   15532.000  United Kingdom  \n",
              "120438   3/15/11 14:19      6.630         NaN  United Kingdom  \n",
              "521664   12/2/11 16:39      1.250         NaN  United Kingdom  \n",
              "518587   12/1/11 16:22     12.460         NaN  United Kingdom  \n",
              "517397   12/1/11 13:08      1.450   18122.000  United Kingdom  \n",
              "158225   4/15/11 13:16      4.950   14700.000  United Kingdom  \n",
              "240897    6/27/11 9:11      1.380         NaN  United Kingdom  \n",
              "498176  11/24/11 13:32      2.080   16609.000  United Kingdom  \n",
              "406515  10/19/11 11:41     16.630         NaN  United Kingdom  "
            ],
            "text/html": [
              "\n",
              "  <div id=\"df-0c79e1ac-5c8d-4685-83fc-e65ffb6f8ec1\">\n",
              "    <div class=\"colab-df-container\">\n",
              "      <div>\n",
              "<style scoped>\n",
              "    .dataframe tbody tr th:only-of-type {\n",
              "        vertical-align: middle;\n",
              "    }\n",
              "\n",
              "    .dataframe tbody tr th {\n",
              "        vertical-align: top;\n",
              "    }\n",
              "\n",
              "    .dataframe thead th {\n",
              "        text-align: right;\n",
              "    }\n",
              "</style>\n",
              "<table border=\"1\" class=\"dataframe\">\n",
              "  <thead>\n",
              "    <tr style=\"text-align: right;\">\n",
              "      <th></th>\n",
              "      <th>invoiceno</th>\n",
              "      <th>stockcode</th>\n",
              "      <th>description</th>\n",
              "      <th>quantity</th>\n",
              "      <th>invoicedate</th>\n",
              "      <th>unitprice</th>\n",
              "      <th>customerid</th>\n",
              "      <th>country</th>\n",
              "    </tr>\n",
              "  </thead>\n",
              "  <tbody>\n",
              "    <tr>\n",
              "      <th>128254</th>\n",
              "      <td>547250</td>\n",
              "      <td>84598</td>\n",
              "      <td>BOYS ALPHABET IRON ON PATCHES</td>\n",
              "      <td>2</td>\n",
              "      <td>3/22/11 9:30</td>\n",
              "      <td>0.210</td>\n",
              "      <td>NaN</td>\n",
              "      <td>United Kingdom</td>\n",
              "    </tr>\n",
              "    <tr>\n",
              "      <th>33753</th>\n",
              "      <td>539294</td>\n",
              "      <td>22834</td>\n",
              "      <td>HAND WARMER BABUSHKA DESIGN</td>\n",
              "      <td>2</td>\n",
              "      <td>12/16/10 16:45</td>\n",
              "      <td>2.100</td>\n",
              "      <td>15532.000</td>\n",
              "      <td>United Kingdom</td>\n",
              "    </tr>\n",
              "    <tr>\n",
              "      <th>120438</th>\n",
              "      <td>546655</td>\n",
              "      <td>20682</td>\n",
              "      <td>RED RETROSPOT CHILDRENS UMBRELLA</td>\n",
              "      <td>1</td>\n",
              "      <td>3/15/11 14:19</td>\n",
              "      <td>6.630</td>\n",
              "      <td>NaN</td>\n",
              "      <td>United Kingdom</td>\n",
              "    </tr>\n",
              "    <tr>\n",
              "      <th>521664</th>\n",
              "      <td>580367</td>\n",
              "      <td>22422</td>\n",
              "      <td>TOOTHPASTE TUBE PEN</td>\n",
              "      <td>2</td>\n",
              "      <td>12/2/11 16:39</td>\n",
              "      <td>1.250</td>\n",
              "      <td>NaN</td>\n",
              "      <td>United Kingdom</td>\n",
              "    </tr>\n",
              "    <tr>\n",
              "      <th>518587</th>\n",
              "      <td>580115</td>\n",
              "      <td>23526</td>\n",
              "      <td>WALL ART DOG LICENCE</td>\n",
              "      <td>4</td>\n",
              "      <td>12/1/11 16:22</td>\n",
              "      <td>12.460</td>\n",
              "      <td>NaN</td>\n",
              "      <td>United Kingdom</td>\n",
              "    </tr>\n",
              "    <tr>\n",
              "      <th>517397</th>\n",
              "      <td>580054</td>\n",
              "      <td>22142</td>\n",
              "      <td>CHRISTMAS CRAFT WHITE FAIRY</td>\n",
              "      <td>3</td>\n",
              "      <td>12/1/11 13:08</td>\n",
              "      <td>1.450</td>\n",
              "      <td>18122.000</td>\n",
              "      <td>United Kingdom</td>\n",
              "    </tr>\n",
              "    <tr>\n",
              "      <th>158225</th>\n",
              "      <td>550279</td>\n",
              "      <td>22138</td>\n",
              "      <td>BAKING SET 9 PIECE RETROSPOT</td>\n",
              "      <td>6</td>\n",
              "      <td>4/15/11 13:16</td>\n",
              "      <td>4.950</td>\n",
              "      <td>14700.000</td>\n",
              "      <td>United Kingdom</td>\n",
              "    </tr>\n",
              "    <tr>\n",
              "      <th>240897</th>\n",
              "      <td>558118</td>\n",
              "      <td>21700</td>\n",
              "      <td>BIG DOUGHNUT FRIDGE MAGNETS</td>\n",
              "      <td>6</td>\n",
              "      <td>6/27/11 9:11</td>\n",
              "      <td>1.380</td>\n",
              "      <td>NaN</td>\n",
              "      <td>United Kingdom</td>\n",
              "    </tr>\n",
              "    <tr>\n",
              "      <th>498176</th>\n",
              "      <td>578513</td>\n",
              "      <td>23581</td>\n",
              "      <td>JUMBO BAG PAISLEY PARK</td>\n",
              "      <td>20</td>\n",
              "      <td>11/24/11 13:32</td>\n",
              "      <td>2.080</td>\n",
              "      <td>16609.000</td>\n",
              "      <td>United Kingdom</td>\n",
              "    </tr>\n",
              "    <tr>\n",
              "      <th>406515</th>\n",
              "      <td>571797</td>\n",
              "      <td>22624</td>\n",
              "      <td>IVORY KITCHEN SCALES</td>\n",
              "      <td>1</td>\n",
              "      <td>10/19/11 11:41</td>\n",
              "      <td>16.630</td>\n",
              "      <td>NaN</td>\n",
              "      <td>United Kingdom</td>\n",
              "    </tr>\n",
              "  </tbody>\n",
              "</table>\n",
              "</div>\n",
              "      <button class=\"colab-df-convert\" onclick=\"convertToInteractive('df-0c79e1ac-5c8d-4685-83fc-e65ffb6f8ec1')\"\n",
              "              title=\"Convert this dataframe to an interactive table.\"\n",
              "              style=\"display:none;\">\n",
              "        \n",
              "  <svg xmlns=\"http://www.w3.org/2000/svg\" height=\"24px\"viewBox=\"0 0 24 24\"\n",
              "       width=\"24px\">\n",
              "    <path d=\"M0 0h24v24H0V0z\" fill=\"none\"/>\n",
              "    <path d=\"M18.56 5.44l.94 2.06.94-2.06 2.06-.94-2.06-.94-.94-2.06-.94 2.06-2.06.94zm-11 1L8.5 8.5l.94-2.06 2.06-.94-2.06-.94L8.5 2.5l-.94 2.06-2.06.94zm10 10l.94 2.06.94-2.06 2.06-.94-2.06-.94-.94-2.06-.94 2.06-2.06.94z\"/><path d=\"M17.41 7.96l-1.37-1.37c-.4-.4-.92-.59-1.43-.59-.52 0-1.04.2-1.43.59L10.3 9.45l-7.72 7.72c-.78.78-.78 2.05 0 2.83L4 21.41c.39.39.9.59 1.41.59.51 0 1.02-.2 1.41-.59l7.78-7.78 2.81-2.81c.8-.78.8-2.07 0-2.86zM5.41 20L4 18.59l7.72-7.72 1.47 1.35L5.41 20z\"/>\n",
              "  </svg>\n",
              "      </button>\n",
              "      \n",
              "  <style>\n",
              "    .colab-df-container {\n",
              "      display:flex;\n",
              "      flex-wrap:wrap;\n",
              "      gap: 12px;\n",
              "    }\n",
              "\n",
              "    .colab-df-convert {\n",
              "      background-color: #E8F0FE;\n",
              "      border: none;\n",
              "      border-radius: 50%;\n",
              "      cursor: pointer;\n",
              "      display: none;\n",
              "      fill: #1967D2;\n",
              "      height: 32px;\n",
              "      padding: 0 0 0 0;\n",
              "      width: 32px;\n",
              "    }\n",
              "\n",
              "    .colab-df-convert:hover {\n",
              "      background-color: #E2EBFA;\n",
              "      box-shadow: 0px 1px 2px rgba(60, 64, 67, 0.3), 0px 1px 3px 1px rgba(60, 64, 67, 0.15);\n",
              "      fill: #174EA6;\n",
              "    }\n",
              "\n",
              "    [theme=dark] .colab-df-convert {\n",
              "      background-color: #3B4455;\n",
              "      fill: #D2E3FC;\n",
              "    }\n",
              "\n",
              "    [theme=dark] .colab-df-convert:hover {\n",
              "      background-color: #434B5C;\n",
              "      box-shadow: 0px 1px 3px 1px rgba(0, 0, 0, 0.15);\n",
              "      filter: drop-shadow(0px 1px 2px rgba(0, 0, 0, 0.3));\n",
              "      fill: #FFFFFF;\n",
              "    }\n",
              "  </style>\n",
              "\n",
              "      <script>\n",
              "        const buttonEl =\n",
              "          document.querySelector('#df-0c79e1ac-5c8d-4685-83fc-e65ffb6f8ec1 button.colab-df-convert');\n",
              "        buttonEl.style.display =\n",
              "          google.colab.kernel.accessAllowed ? 'block' : 'none';\n",
              "\n",
              "        async function convertToInteractive(key) {\n",
              "          const element = document.querySelector('#df-0c79e1ac-5c8d-4685-83fc-e65ffb6f8ec1');\n",
              "          const dataTable =\n",
              "            await google.colab.kernel.invokeFunction('convertToInteractive',\n",
              "                                                     [key], {});\n",
              "          if (!dataTable) return;\n",
              "\n",
              "          const docLinkHtml = 'Like what you see? Visit the ' +\n",
              "            '<a target=\"_blank\" href=https://colab.research.google.com/notebooks/data_table.ipynb>data table notebook</a>'\n",
              "            + ' to learn more about interactive tables.';\n",
              "          element.innerHTML = '';\n",
              "          dataTable['output_type'] = 'display_data';\n",
              "          await google.colab.output.renderOutput(dataTable, element);\n",
              "          const docLink = document.createElement('div');\n",
              "          docLink.innerHTML = docLinkHtml;\n",
              "          element.appendChild(docLink);\n",
              "        }\n",
              "      </script>\n",
              "    </div>\n",
              "  </div>\n",
              "  "
            ]
          },
          "metadata": {},
          "execution_count": 70
        }
      ]
    },
    {
      "cell_type": "code",
      "source": [
        "import klib"
      ],
      "metadata": {
        "id": "PA50Ea0ZKp9D"
      },
      "execution_count": 19,
      "outputs": []
    },
    {
      "cell_type": "code",
      "source": [
        "klib.missingval_plot(df)"
      ],
      "metadata": {
        "colab": {
          "base_uri": "https://localhost:8080/",
          "height": 1000
        },
        "id": "RvkW8MbYNiUh",
        "outputId": "fd5ba38a-f816-45c5-f4ff-7347eb26d8f4"
      },
      "execution_count": 10,
      "outputs": [
        {
          "output_type": "execute_result",
          "data": {
            "text/plain": [
              "GridSpec(6, 6)"
            ]
          },
          "metadata": {},
          "execution_count": 10
        },
        {
          "output_type": "display_data",
          "data": {
            "text/plain": [
              "<Figure size 1440x1440 with 4 Axes>"
            ],
            "image/png": "[encoded data removed]"
          },
          "metadata": {
            "needs_background": "light"
          }
        }
      ]
    },
    {
      "cell_type": "markdown",
      "source": [
        "# DATA QUALITY FUNCTION"
      ],
      "metadata": {
        "id": "uYINZF6rf9Fu"
      }
    },
    {
      "cell_type": "code",
      "source": [
        "def Quality_Check(df):\n",
        "  print(\"*****************************************DATA SUMMARY***********************************************\")\n",
        "  print(Data_Summary(df))\n",
        "  print(\"****************************************MISSING VALUES**********************************************\")\n",
        "  print(missing_values(df))\n",
        "  print(colored(\"Shape:\", attrs=['bold']), df.shape,'\\n', \n",
        "          colored('*'*100, 'red', attrs = ['bold']),\n",
        "          colored(\"\\nInfo:\\n\", attrs = ['bold']), sep = '')\n",
        "  print(\"***************************************DUPLICATED VALUES********************************************\")\n",
        "  print(duplicate_values(df))\n",
        "  print(colored(\"Shape:\", attrs=['bold']), df.shape,'\\n', \n",
        "          colored('*'*100, 'red', attrs = ['bold']),\n",
        "          colored(\"\\nInfo:\\n\", attrs = ['bold']), sep = '')\n",
        "  print(dc.duplicate_columns())\n",
        "  print(\"*************************************MULTICOLINEARITY CHECK*****************************************\")\n",
        "  multicolinearity_control(df)\n",
        "  print(\"*****************************************ERRONEOUS DATA*********************************************\")\n",
        "  print(ErroneousDataIdentifier(df=df).predefined_erroneous_data())\n"
      ],
      "metadata": {
        "id": "FSEpWRITaE4e"
      },
      "execution_count": 120,
      "outputs": []
    },
    {
      "cell_type": "code",
      "source": [
        "Quality_Check(df)"
      ],
      "metadata": {
        "colab": {
          "base_uri": "https://localhost:8080/"
        },
        "id": "xBeHhVFzaV9_",
        "outputId": "8de1a866-7192-45d4-8794-45a43a407d01"
      },
      "execution_count": 122,
      "outputs": [
        {
          "output_type": "stream",
          "name": "stdout",
          "text": [
            "*****************************************DATA SUMMARY***********************************************\n",
            "\u001b[1mShape:\u001b[0m(17414, 10)\n",
            "\u001b[1m\u001b[31m****************************************************************************************************\u001b[0m\u001b[1m\n",
            "Info:\n",
            "\u001b[0m\n",
            "<class 'pandas.core.frame.DataFrame'>\n",
            "RangeIndex: 17414 entries, 0 to 17413\n",
            "Data columns (total 10 columns):\n",
            " #   Column        Non-Null Count  Dtype  \n",
            "---  ------        --------------  -----  \n",
            " 0   timestamp     17414 non-null  object \n",
            " 1   cnt           17414 non-null  int64  \n",
            " 2   t1            17414 non-null  float64\n",
            " 3   t2            17414 non-null  float64\n",
            " 4   hum           17414 non-null  float64\n",
            " 5   wind_speed    17414 non-null  float64\n",
            " 6   weather_code  17414 non-null  float64\n",
            " 7   is_holiday    17414 non-null  float64\n",
            " 8   is_weekend    17414 non-null  float64\n",
            " 9   season        17414 non-null  float64\n",
            "dtypes: float64(8), int64(1), object(1)\n",
            "memory usage: 1.3+ MB\n",
            "None\n",
            "\u001b[1m\u001b[31m****************************************************************************************************\u001b[0m\n",
            "\u001b[1mNumber of Uniques:\n",
            "\u001b[0mtimestamp       17414\n",
            "cnt              3781\n",
            "t1                 73\n",
            "t2                 82\n",
            "hum               143\n",
            "wind_speed        103\n",
            "weather_code        7\n",
            "is_holiday          2\n",
            "is_weekend          2\n",
            "season              4\n",
            "dtype: int64\n",
            "\u001b[1m\u001b[31m****************************************************************************************************\u001b[0m\n",
            "\u001b[1mMissing Values:\n",
            "\u001b[0mEmpty DataFrame\n",
            "Columns: [Missing_Number, Missing_Percent]\n",
            "Index: []\n",
            "\u001b[1m\u001b[31m****************************************************************************************************\u001b[0m\n",
            "\u001b[1mAll Columns:\u001b[0m['timestamp', 'cnt', 't1', 't2', 'hum', 'wind_speed', 'weather_code', 'is_holiday', 'is_weekend', 'season']\n",
            "\u001b[1m\u001b[31m****************************************************************************************************\u001b[0m\n",
            "\u001b[1mColumns after rename:\u001b[0m['timestamp', 'cnt', 't1', 't2', 'hum', 'wind_speed', 'weather_code', 'is_holiday', 'is_weekend', 'season']\n",
            "\u001b[1m\u001b[31m****************************************************************************************************\u001b[0m\n",
            "\u001b[1mDescriptive Statistics \n",
            "\u001b[0m            cnt        t1        t2       hum  wind_speed  weather_code  \\\n",
            "count 17414.000 17414.000 17414.000 17414.000   17414.000     17414.000   \n",
            "mean   1143.100    12.470    11.520    72.320      15.910         2.720   \n",
            "std    1085.110     5.570     6.620    14.310       7.890         2.340   \n",
            "min       0.000    -1.500    -6.000    20.500       0.000         1.000   \n",
            "25%     257.000     8.000     6.000    63.000      10.000         1.000   \n",
            "50%     844.000    12.500    12.500    74.500      15.000         2.000   \n",
            "75%    1671.750    16.000    16.000    83.000      20.500         3.000   \n",
            "max    7860.000    34.000    34.000   100.000      56.500        26.000   \n",
            "\n",
            "       is_holiday  is_weekend    season  \n",
            "count   17414.000   17414.000 17414.000  \n",
            "mean        0.020       0.290     1.490  \n",
            "std         0.150       0.450     1.120  \n",
            "min         0.000       0.000     0.000  \n",
            "25%         0.000       0.000     0.000  \n",
            "50%         0.000       0.000     1.000  \n",
            "75%         0.000       1.000     2.000  \n",
            "max         1.000       1.000     3.000  \n",
            "\u001b[1m\u001b[31m****************************************************************************************************\u001b[0m\n",
            "\u001b[1mDescriptive Statistics (Categorical Columns) \n",
            "\u001b[0m           count unique                  top freq\n",
            "timestamp  17414  17414  2016-01-30 21:00:00    1\n",
            "\u001b[1m\u001b[31m****************************************************************************************************\u001b[0m\n",
            "None\n",
            "****************************************MISSING VALUES**********************************************\n",
            "Empty DataFrame\n",
            "Columns: [Missing_Number, Missing_Percent]\n",
            "Index: []\n",
            "\u001b[1mShape:\u001b[0m(17414, 10)\n",
            "\u001b[1m\u001b[31m****************************************************************************************************\u001b[0m\u001b[1m\n",
            "Info:\n",
            "\u001b[0m\n",
            "***************************************DUPLICATED VALUES********************************************\n",
            "\u001b[1mDuplicate check...\u001b[0m\n",
            "There are 0 duplicated observations in the dataset.\n",
            "None\n",
            "\u001b[1mShape:\u001b[0m(17414, 10)\n",
            "\u001b[1m\u001b[31m****************************************************************************************************\u001b[0m\u001b[1m\n",
            "Info:\n",
            "\u001b[0m\n",
            "INFO | No duplicate columns were found.\n",
            "None\n",
            "*************************************MULTICOLINEARITY CHECK*****************************************\n",
            "\u001b[1m\u001b[31mMulticolinearity alert in between:t1 - t2\u001b[0m(17414, 10)\n",
            "\u001b[1m\u001b[31m****************************************************************************************************\u001b[0m\n",
            "\u001b[1m\u001b[31mMulticolinearity alert in between:t2 - t1\u001b[0m(17414, 10)\n",
            "\u001b[1m\u001b[31m****************************************************************************************************\u001b[0m\n",
            "*****************************************ERRONEOUS DATA*********************************************\n",
            "INFO | No predefined ED values from  the set {'', '(blank)', 'unknown', '?', 'n/a', 'unk', 'na'} were found in the dataset.\n",
            "None\n"
          ]
        }
      ]
    }
  ]
}